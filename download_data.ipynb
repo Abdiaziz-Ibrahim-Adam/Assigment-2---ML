{
 "cells": [
  {
   "cell_type": "code",
   "execution_count": null,
   "id": "b1a663f0-37c5-4950-a79a-21def6e2dc09",
   "metadata": {},
   "outputs": [
    {
     "name": "stdout",
     "output_type": "stream",
     "text": [
      "Data shape: (70000, 784)\n",
      "Label shape: (70000,)\n"
     ]
    }
   ],
   "source": [
    "from sklearn.datasets import fetch_openml\n",
    "import numpy as np\n",
    "import matplotlib.pyplot as plt\n",
    "\n",
    "# Load the Fashion-MNIST dataset (images of clothes)\n",
    "fashion = fetch_openml(name=\"Fashion-MNIST\", version=1, as_frame=False)\n",
    "\n",
    "# Separate the image data (X) and the labels (y)\n",
    "X = fashion.data\n",
    "y = fashion.target.astype(int)\n",
    "\n",
    "print(\"Data shape:\", X.shape)\n",
    "print(\"Label shape:\", y.shape)\n"
   ]
  },
  {
   "cell_type": "code",
   "execution_count": null,
   "id": "69f822ff",
   "metadata": {},
   "outputs": [],
   "source": [
    "# Show the first 9 images from the dataset\n",
    "fig, axes = plt.subplots(3, 3, figsize=(6,6))\n",
    "\n",
    "for i, ax in enumerate(axes.flat):\n",
    "    # Each image is a long list of 784 numbers, so we reshape it back to 28x28\n",
    "    ax.imshow(X[i].reshape(28, 28), cmap='gray')\n",
    "    ax.set_title(f\"Label: {y[i]}\")\n",
    "    ax.axis('off')\n",
    "\n",
    "plt.tight_layout()\n",
    "plt.show()\n"
   ]
  },
  {
   "cell_type": "code",
   "execution_count": null,
   "id": "9bc46b00",
   "metadata": {},
   "outputs": [],
   "source": []
  }
 ],
 "metadata": {
  "kernelspec": {
   "display_name": "Python 3",
   "language": "python",
   "name": "python3"
  },
  "language_info": {
   "codemirror_mode": {
    "name": "ipython",
    "version": 3
   },
   "file_extension": ".py",
   "mimetype": "text/x-python",
   "name": "python",
   "nbconvert_exporter": "python",
   "pygments_lexer": "ipython3",
   "version": "3.12.6"
  }
 },
 "nbformat": 4,
 "nbformat_minor": 5
}
