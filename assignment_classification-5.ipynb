{
 "cells": [
  {
   "cell_type": "markdown",
   "metadata": {
    "id": "ePLSo3ldhbMO"
   },
   "source": [
    "# Assignment: Classification of Fashion Items"
   ]
  },
  {
   "cell_type": "markdown",
   "metadata": {},
   "source": [
    "In this assignment, you will classify fashion articles from the [MNIST fashion dataset](https://github.com/zalandoresearch/fashion-mnist) using two different tools: a k-nearest neighbor classifier and a dense neural network (multilayer perceptron). The relevant material for this assignment is covered in lectures 8 and 9. The assignment instructions are provided on Canvas."
   ]
  },
  {
   "cell_type": "markdown",
   "metadata": {
    "id": "DJlFR2GELAxa"
   },
   "source": [
    "## Boilerplate Notebook Code"
   ]
  },
  {
   "cell_type": "markdown",
   "metadata": {},
   "source": [
    "Below, you find the boilerplate code that you have to use for the assignment, including basic instructions.\n",
    "Note that you may need to change the dependency installation procedure.\n",
    "Debug by removing the `%%capture` line.\n",
    "If you use a [virtual environment](https://docs.python.org/3/library/venv.html), make sure you can set the notebook's kernel accordingly (assuming your virtual environment is called `venv`):\n",
    "\n",
    "```\n",
    "pip3 install ipykernel\n",
    "python -m ipykernel install --user --name=venv\n",
    "```\n",
    "\n",
    "Then, also remove the flags `--user -Iv` below."
   ]
  },
  {
   "cell_type": "code",
   "execution_count": 49,
   "metadata": {},
   "outputs": [],
   "source": [
    "%%capture\n",
    "# Install the dependencies (in case you use Google Colab, these should be available by default, though)\n",
    "# In case the installation fails or does not yield the desired results remove the `%%capture` line for debugging.\n",
    "# In case of issues with the import of dependencies, see: https://stackoverflow.com/questions/50914761/jupyter-notebook-cant-find-modules-for-python\n",
    "! pip install --user -Iv numpy matplotlib pandas scikit-learn"
   ]
  },
  {
   "cell_type": "code",
   "execution_count": 2,
   "metadata": {
    "id": "092ZQBfJzALh"
   },
   "outputs": [],
   "source": [
    "import numpy as np\n",
    "np.random.seed(42)  # Set the random seed for reproducible results"
   ]
  },
  {
   "cell_type": "code",
   "execution_count": 3,
   "metadata": {
    "id": "CPqG1Q30qsEB"
   },
   "outputs": [
    {
     "name": "stdout",
     "output_type": "stream",
     "text": [
      "**Author**: Han Xiao, Kashif Rasul, Roland Vollgraf  \n",
      "**Source**: [Zalando Research](https://github.com/zalandoresearch/fashion-mnist)  \n",
      "**Please cite**: Han Xiao and Kashif Rasul and Roland Vollgraf, Fashion-MNIST: a Novel Image Dataset for Benchmarking Machine Learning Algorithms, arXiv, cs.LG/1708.07747  \n",
      "\n",
      "Fashion-MNIST is a dataset of Zalando's article images, consisting of a training set of 60,000 examples and a test set of 10,000 examples. Each example is a 28x28 grayscale image, associated with a label from 10 classes. Fashion-MNIST is intended to serve as a direct drop-in replacement for the original MNIST dataset for benchmarking machine learning algorithms. It shares the same image size and structure of training and testing splits. \n",
      "\n",
      "Raw data available at: https://github.com/zalandoresearch/fashion-mnist\n",
      "\n",
      "### Target classes\n",
      "Each training and test example is assigned to one of the following labels:\n",
      "Label  Description  \n",
      "0  T-shirt/top  \n",
      "1  Trouser  \n",
      "2  Pullover  \n",
      "3  Dress  \n",
      "4  Coat  \n",
      "5  Sandal  \n",
      "6  Shirt  \n",
      "7  Sneaker  \n",
      "8  Bag  \n",
      "9  Ankle boot\n",
      "\n",
      "Downloaded from openml.org.\n"
     ]
    }
   ],
   "source": [
    "# Load the Fashion MNIST dataset (this may take a while)\n",
    "\n",
    "import sklearn.datasets\n",
    "\n",
    "data = sklearn.datasets.fetch_openml(\"Fashion-MNIST\")\n",
    "\n",
    "print(data.DESCR)"
   ]
  },
  {
   "cell_type": "code",
   "execution_count": 4,
   "metadata": {
    "id": "cgS9W1g4ztV9"
   },
   "outputs": [
    {
     "name": "stdout",
     "output_type": "stream",
     "text": [
      "Training set size X   : (52500, 784)\n",
      "Training set size y   : (52500,)\n",
      "Validation set size X : (8750, 784)\n",
      "Validation set size y : (8750,)\n",
      "Test set size X       : (8750, 784)\n",
      "Test set size y       : (8750,)\n",
      "Output classes        : {'1', '0', '3', '2', '7', '8', '4', '5', '6', '9'}\n"
     ]
    }
   ],
   "source": [
    "# Split the data into training, (validation), and test set\n",
    "\n",
    "from sklearn.model_selection import train_test_split\n",
    "\n",
    "Xtrain, Xtest, ytrain, ytest = train_test_split(data.data, data.target, test_size=0.25, random_state=1)\n",
    "\n",
    "# You may alternatively skip this / have a combined Xtrain and Xval here and instead use cross-validation below\n",
    "Xtest, Xval, ytest, yval = train_test_split(Xtest, ytest, test_size=0.5, random_state=1)\n",
    "Xtrain =  np.asarray(Xtrain)\n",
    "Xtest =  np.asarray(Xtest)\n",
    "Xval =  np.asarray(Xval)\n",
    "ytrain =  np.asarray(ytrain)\n",
    "ytest =  np.asarray(ytest)\n",
    "yval =  np.asarray(yval)\n",
    "\n",
    "\n",
    "# Note! Do not touch the test data until the very end!\n",
    "\n",
    "print(f\"Training set size X   : {Xtrain.shape}\")\n",
    "print(f\"Training set size y   : {ytrain.shape}\")\n",
    "print(f\"Validation set size X : {Xval.shape}\")\n",
    "print(f\"Validation set size y : {yval.shape}\")\n",
    "print(f\"Test set size X       : {Xtest.shape}\")\n",
    "print(f\"Test set size y       : {ytest.shape}\")\n",
    "print(f\"Output classes        : {set(ytrain)}\")"
   ]
  },
  {
   "cell_type": "code",
   "execution_count": 5,
   "metadata": {
    "id": "Xd0OxcEW5mq7"
   },
   "outputs": [
    {
     "name": "stdout",
     "output_type": "stream",
     "text": [
      "Before preprocessing, test data       : min = 0.0, max = 255.0, mean = 72.9, std = 89.9\n",
      "Before preprocessing, validation data : min = 0.0, max = 255.0, mean = 73.5, std = 90.3\n",
      "Before preprocessing, test data       : min = 0.0, max = 255.0, mean = 72.9, std = 90.1\n",
      "After preprocessing, test data        : min = -1.0, max = 1.0, mean = -0.4, std = 0.7\n",
      "After preprocessing, validation data  : min = -1.0, max = 1.2, mean = -0.4, std = 0.7\n",
      "After preprocessing, test data        : min = -1.0, max = 1.7, mean = -0.4, std = 0.7\n"
     ]
    }
   ],
   "source": [
    "# Preprocess the data\n",
    "import sklearn.preprocessing\n",
    "\n",
    "print(f\"Before preprocessing, test data       : \"\n",
    "      f\"min = {np.min(Xtrain):.1f}, \"\n",
    "      f\"max = {np.max(Xtrain):.1f}, \"\n",
    "      f\"mean = {np.mean(Xtrain):.1f}, \"\n",
    "      f\"std = {np.std(Xtrain):.1f}\")\n",
    "print(f\"Before preprocessing, validation data : \"\n",
    "      f\"min = {np.min(Xval):.1f}, \"\n",
    "      f\"max = {np.max(Xval):.1f}, \"\n",
    "      f\"mean = {np.mean(Xval):.1f}, \"\n",
    "      f\"std = {np.std(Xval):.1f}\")\n",
    "print(f\"Before preprocessing, test data       : \"\n",
    "      f\"min = {np.min(Xtest):.1f}, \"\n",
    "      f\"max = {np.max(Xtest):.1f}, \"\n",
    "      f\"mean = {np.mean(Xtest):.1f}, \"\n",
    "      f\"std = {np.std(Xtest):.1f}\")\n",
    "\n",
    "scaler = sklearn.preprocessing.MinMaxScaler(feature_range=(-1, 1))\n",
    "scaler.fit(Xtrain)  # Every statistic we compute is found on the training data!\n",
    "\n",
    "Xtrain = scaler.transform(Xtrain)\n",
    "Xval = scaler.transform(Xval)\n",
    "# TODO: If you do cross-validation, you must redo this on the training data in\n",
    "#       each cross-validation loop, and then transform the validation data as\n",
    "#       well!\n",
    "Xtest = scaler.transform(Xtest)\n",
    "\n",
    "print(f\"After preprocessing, test data        : \"\n",
    "      f\"min = {np.min(Xtrain):.1f}, \"\n",
    "      f\"max = {np.max(Xtrain):.1f}, \"\n",
    "      f\"mean = {np.mean(Xtrain):.1f}, \"\n",
    "      f\"std = {np.std(Xtrain):.1f}\")\n",
    "print(f\"After preprocessing, validation data  : \"\n",
    "      f\"min = {np.min(Xval):.1f}, \"\n",
    "      f\"max = {np.max(Xval):.1f}, \"\n",
    "      f\"mean = {np.mean(Xval):.1f}, \"\n",
    "      f\"std = {np.std(Xval):.1f}\")\n",
    "print(f\"After preprocessing, test data        : \"\n",
    "      f\"min = {np.min(Xtest):.1f}, \"\n",
    "      f\"max = {np.max(Xtest):.1f}, \"\n",
    "      f\"mean = {np.mean(Xtest):.1f}, \"\n",
    "      f\"std = {np.std(Xtest):.1f}\")\n",
    "\n",
    "# TODO: Try to apply other preprocessing, e.g. the\n",
    "#       sklearn.preprocessing.StandardScaler(), and see if the results improve."
   ]
  },
  {
   "cell_type": "code",
   "execution_count": 6,
   "metadata": {
    "id": "2st_Xv3w12Tb"
   },
   "outputs": [
    {
     "data": {
      "image/png": "[encoded data removed]",
      "text/plain": [
       "<Figure size 1200x775 with 8 Axes>"
      ]
     },
     "metadata": {},
     "output_type": "display_data"
    }
   ],
   "source": [
    "# Plot a few images\n",
    "\n",
    "import matplotlib.pyplot as plt\n",
    "%matplotlib inline\n",
    "\n",
    "fig = plt.figure(figsize=(12, 7.75))\n",
    "fig.subplots_adjust(top=0.995,\n",
    "                    bottom=0.115,\n",
    "                    left=0.005,\n",
    "                    right=0.995,\n",
    "                    wspace=0.15,\n",
    "                    hspace=0.005)\n",
    "\n",
    "plot_array = (2, 4)\n",
    "ax = [[None] * plot_array[1]] * plot_array[0]\n",
    "it = 0\n",
    "for i in range(plot_array[0]):\n",
    "    for j in range(plot_array[1]):\n",
    "        ax[i][j] = plt.subplot2grid((2, 4), (i, j), rowspan=1, colspan=1)\n",
    "        ax[i][j].imshow(Xtrain[it, :].reshape((28, 28)))\n",
    "        ax[i][j].set_title(f\"Label: {ytrain[it]}\", fontsize=24)\n",
    "        it += 1"
   ]
  },
  {
   "cell_type": "markdown",
   "metadata": {
    "id": "_I-L0BtiwOMO"
   },
   "source": [
    "### The $k$-NN model"
   ]
  },
  {
   "cell_type": "markdown",
   "metadata": {},
   "source": [
    "You have to implement the $k$-NN classifier yourself. The below implementation uses the scikit-learn implementation of the $k$-NN classifier, but you need to do it yourself. Also, perform a hyper-parameter search for the optimal number of neighbors, $k$."
   ]
  },
  {
   "cell_type": "code",
   "execution_count": 7,
   "metadata": {
    "id": "MMyn4Pt679bv"
   },
   "outputs": [],
   "source": [
    "# ============================================================\n",
    "# k-Nearest Neighbors (k-NN) Classifier Implementation\n",
    "# ============================================================\n",
    "\n",
    "class knn_Classifier:\n",
    "    \"\"\"\n",
    "    Simple implementation of the k-Nearest Neighbors (k-NN) classifier.\n",
    "\n",
    "    Parameters\n",
    "    ----------\n",
    "    n_neighbors : int, optional (default=5)\n",
    "        Number of nearest neighbors to consider for classification.\n",
    "    \"\"\"\n",
    "\n",
    "    def __init__(self, n_neighbors=5):\n",
    "        \"\"\"Initialize the classifier with the given number of neighbors.\"\"\"\n",
    "        self.n_neighbors = n_neighbors\n",
    "\n",
    "    def fit(self, X, y):\n",
    "        \"\"\"\n",
    "        Store the training data.\n",
    "\n",
    "        Parameters\n",
    "        ----------\n",
    "        X : ndarray of shape (n_samples, n_features)\n",
    "            Training feature data.\n",
    "        y : ndarray of shape (n_samples,)\n",
    "            Training labels.\n",
    "        \"\"\"\n",
    "        self.X_train = X\n",
    "        self.y_train = y\n",
    "\n",
    "    def predict(self, X):\n",
    "        \"\"\"\n",
    "        Predict the class labels for the input samples using k-NN.\n",
    "\n",
    "        Parameters\n",
    "        ----------\n",
    "        X : ndarray of shape (n_samples, n_features)\n",
    "            Input feature data to classify.\n",
    "\n",
    "        Returns\n",
    "        -------\n",
    "        predictions : ndarray of shape (n_samples,)\n",
    "            Predicted class labels for each input sample.\n",
    "        \"\"\"\n",
    "        predictions = []\n",
    "\n",
    "        # Iterate through each sample to predict its label\n",
    "        for x in X:\n",
    "            # Compute Euclidean distance between x and all training samples\n",
    "            distances = np.sqrt(np.sum((self.X_train - x) ** 2, axis=1))\n",
    "\n",
    "            # Get indices of k nearest neighbors\n",
    "            knn_indices = np.argsort(distances)[:self.n_neighbors]\n",
    "\n",
    "            # Get labels of those neighbors\n",
    "            knn_labels = self.y_train[knn_indices]\n",
    "\n",
    "            # Select the most frequent label among neighbors\n",
    "            most_common, counts = np.unique(knn_labels, return_counts=True)\n",
    "            majority_label = most_common[np.argmax(counts)]\n",
    "\n",
    "            predictions.append(majority_label)\n",
    "\n",
    "        return np.array(predictions)\n",
    "\n",
    "    def score(self, X, y):\n",
    "        \"\"\"\n",
    "        Compute the accuracy of the classifier.\n",
    "\n",
    "        Parameters\n",
    "        ----------\n",
    "        X : ndarray\n",
    "            Feature data to evaluate.\n",
    "        y : ndarray\n",
    "            True labels.\n",
    "\n",
    "        Returns\n",
    "        -------\n",
    "        accuracy : float\n",
    "            The proportion of correctly classified samples.\n",
    "        \"\"\"\n",
    "        y_pred = self.predict(X)\n",
    "        return np.mean(y_pred == y)\n"
   ]
  },
  {
   "cell_type": "code",
   "execution_count": 8,
   "metadata": {
    "id": "PFTZLR7zu1SI"
   },
   "outputs": [
    {
     "name": "stdout",
     "output_type": "stream",
     "text": [
      "Number of neighbors: k=1, Validation Accuracy: 0.7934\n",
      "Number of neighbors: k=2, Validation Accuracy: 0.8000\n",
      "Number of neighbors: k=3, Validation Accuracy: 0.8086\n",
      "Number of neighbors: k=4, Validation Accuracy: 0.8108\n",
      "Number of neighbors: k=5, Validation Accuracy: 0.8102\n",
      "Number of neighbors: k=6, Validation Accuracy: 0.8122\n",
      "\n",
      "Grid search completed successfully!\n",
      "Best k value: 6 with Validation Accuracy = 0.8122\n"
     ]
    }
   ],
   "source": [
    "# ============================================================\n",
    "# Grid Search for Optimal Number of Neighbors (k) in k-NN\n",
    "# ============================================================\n",
    "\n",
    "# Maximum number of neighbors we tested\n",
    "k_max = 6  \n",
    "validation_accuracies = []\n",
    "\n",
    "# Looping through possible k values to find the best one\n",
    "for k in range(1, k_max + 1):\n",
    "    # Initialize model with current k value\n",
    "    model = knn_Classifier(n_neighbors=k)\n",
    "\n",
    "    # Fit the model on the training data\n",
    "    model.fit(Xtrain[:5000], ytrain[:5000])\n",
    "\n",
    "    # Evaluate accuracy on the validation dataset\n",
    "    accuracy = model.score(Xval[:5000], yval[:5000])\n",
    "\n",
    "    # Display and store the result\n",
    "    print(f\"Number of neighbors: k={k}, Validation Accuracy: {accuracy:.4f}\")\n",
    "    validation_accuracies.append(accuracy)\n",
    "\n",
    "print(\"\\nGrid search completed successfully!\")\n",
    "\n",
    "# Identifying the best k (index + 1 because range starts at 1)\n",
    "best_k = np.argmax(validation_accuracies) + 1\n",
    "best_accuracy = validation_accuracies[best_k - 1]\n",
    "\n",
    "print(f\"Best k value: {best_k} with Validation Accuracy = {best_accuracy:.4f}\")\n"
   ]
  },
  {
   "cell_type": "code",
   "execution_count": 9,
   "metadata": {
    "id": "RUzpOWkpczOi"
   },
   "outputs": [
    {
     "data": {
      "text/plain": [
       "Text(0, 0.5, 'Validation Accuracy')"
      ]
     },
     "execution_count": 9,
     "metadata": {},
     "output_type": "execute_result"
    },
    {
     "data": {
      "image/png": "[encoded data removed]",
      "text/plain": [
       "<Figure size 800x500 with 1 Axes>"
      ]
     },
     "metadata": {},
     "output_type": "display_data"
    }
   ],
   "source": [
    "# ============================================================\n",
    "# Plot Validation Accuracy as a Function of k (k-NN)\n",
    "# ============================================================\n",
    "\n",
    "# Plot the accuracy curve as a function of k\n",
    "\n",
    "fig = plt.figure(figsize=(8, 5))\n",
    "fig.subplots_adjust(top=0.995,\n",
    "                    bottom=0.115,\n",
    "                    left=0.005,\n",
    "                    right=0.995,\n",
    "                    wspace=0.15,\n",
    "                    hspace=0.005)\n",
    "\n",
    "ax0 = plt.subplot2grid((1, 1), (0, 0), rowspan=1, colspan=1)\n",
    "ax0.plot(range(1, len(validation_accuracies) + 1), validation_accuracies)\n",
    "ax0.set_title(\"Result of $k$-NN Grid-Search\", fontsize=24)\n",
    "ax0.set_xlabel(\"Number of Neighbors, $k$\", fontsize=16)\n",
    "ax0.set_ylabel(\"Validation Accuracy\", fontsize=16)"
   ]
  },
  {
   "cell_type": "code",
   "execution_count": null,
   "metadata": {
    "id": "FO2nAY0WvzJ5"
   },
   "outputs": [
    {
     "name": "stdout",
     "output_type": "stream",
     "text": [
      "The best value was 0.8122, found using k=6.\n"
     ]
    }
   ],
   "source": [
    "# Train the final k-NN model with the best value for k\n",
    "\n",
    "k_best = np.argmax(validation_accuracies) + 1  # Note that k=1 is at index 0.\n",
    "print(f\"The best value was {validation_accuracies[k_best - 1]}, found using k={k_best}.\")\n",
    "\n",
    "# Initializing and training the final k-NN model using all training data\n",
    "model_knn = knn_Classifier(n_neighbors=k_best)\n",
    "model_knn.fit(Xtrain, ytrain)\n",
    "\n",
    "# Evaluating the model performance on the validation set\n",
    "val_accuracy = model_knn.score(Xval, yval)\n",
    "print(f\"Final validation accuracy of k-NN model: {val_accuracy:.4f}\")"
   ]
  },
  {
   "cell_type": "markdown",
   "metadata": {
    "id": "ESiZjUNjxy7b"
   },
   "source": [
    "### The neural network model"
   ]
  },
  {
   "cell_type": "markdown",
   "metadata": {},
   "source": [
    "We will use the neural networks (multilayer perceptrons) implemented in scikit-learn. You need to find the optimal number of layers, the number of neurons in each of the layers, and any other hyper-parameters that may be relevant. Again, you may first execute the search with a small subset of the data to make sure it works reasonably well."
   ]
  },
  {
   "cell_type": "code",
   "execution_count": 62,
   "metadata": {
    "id": "bC0_DAq4kHkc"
   },
   "outputs": [
    {
     "name": "stderr",
     "output_type": "stream",
     "text": [
      "C:\\Users\\abdia\\AppData\\Roaming\\Python\\Python313\\site-packages\\sklearn\\neural_network\\_multilayer_perceptron.py:781: ConvergenceWarning: Stochastic Optimizer: Maximum iterations (100) reached and the optimization hasn't converged yet.\n",
      "  warnings.warn(\n"
     ]
    },
    {
     "name": "stdout",
     "output_type": "stream",
     "text": [
      "Hidden layer sizes: (50,), Validation Accuracy: 0.8533\n"
     ]
    },
    {
     "name": "stderr",
     "output_type": "stream",
     "text": [
      "C:\\Users\\abdia\\AppData\\Roaming\\Python\\Python313\\site-packages\\sklearn\\neural_network\\_multilayer_perceptron.py:781: ConvergenceWarning: Stochastic Optimizer: Maximum iterations (100) reached and the optimization hasn't converged yet.\n",
      "  warnings.warn(\n"
     ]
    },
    {
     "name": "stdout",
     "output_type": "stream",
     "text": [
      "Hidden layer sizes: (100,), Validation Accuracy: 0.8608\n"
     ]
    },
    {
     "name": "stderr",
     "output_type": "stream",
     "text": [
      "C:\\Users\\abdia\\AppData\\Roaming\\Python\\Python313\\site-packages\\sklearn\\neural_network\\_multilayer_perceptron.py:781: ConvergenceWarning: Stochastic Optimizer: Maximum iterations (100) reached and the optimization hasn't converged yet.\n",
      "  warnings.warn(\n"
     ]
    },
    {
     "name": "stdout",
     "output_type": "stream",
     "text": [
      "Hidden layer sizes: (150,), Validation Accuracy: 0.8573\n"
     ]
    },
    {
     "name": "stderr",
     "output_type": "stream",
     "text": [
      "C:\\Users\\abdia\\AppData\\Roaming\\Python\\Python313\\site-packages\\sklearn\\neural_network\\_multilayer_perceptron.py:781: ConvergenceWarning: Stochastic Optimizer: Maximum iterations (100) reached and the optimization hasn't converged yet.\n",
      "  warnings.warn(\n"
     ]
    },
    {
     "name": "stdout",
     "output_type": "stream",
     "text": [
      "Hidden layer sizes: (100, 50), Validation Accuracy: 0.8515\n",
      "Hidden layer sizes: (150, 100, 50), Validation Accuracy: 0.8623\n",
      "\n",
      "Grid search completed successfully!\n",
      "The best configuration was (150, 100, 50) with Validation Accuracy = 0.8623.\n"
     ]
    },
    {
     "name": "stderr",
     "output_type": "stream",
     "text": [
      "C:\\Users\\abdia\\AppData\\Roaming\\Python\\Python313\\site-packages\\sklearn\\neural_network\\_multilayer_perceptron.py:781: ConvergenceWarning: Stochastic Optimizer: Maximum iterations (100) reached and the optimization hasn't converged yet.\n",
      "  warnings.warn(\n"
     ]
    }
   ],
   "source": [
    "# ============================================================================\n",
    "# Neural Network (ANN) Classifier - Grid Search for Hyperparameters\n",
    "# ============================================================================\n",
    "\n",
    "import sklearn.neural_network\n",
    "\n",
    "# Defining a dictionary to store validation accuracies for each configuration\n",
    "validation_results = {}\n",
    "\n",
    "# Defining the layer configurations to test\n",
    "# Each tuple represents the number of neurons in each hidden layer\n",
    "layer_configurations = [\n",
    "    (50,),           # 1 hidden layer, 50 neurons\n",
    "    (100,),          # 1 hidden layer, 100 neurons\n",
    "    (150,),          # 1 hidden layer, 150 neurons\n",
    "    (100, 50),       # 2 hidden layers: 100 and 50 neurons\n",
    "    (150, 100, 50)   # 3 hidden layers: 150, 100, and 50 neurons\n",
    "]\n",
    "\n",
    "# Defining the learning rate to use \n",
    "learning_rate_init = 0.0005\n",
    "\n",
    "# Loop through each network configuration\n",
    "for hidden_layer_sizes in layer_configurations:\n",
    "\n",
    "    # Create an MLP (Multilayer Perceptron) classifier\n",
    "    model = sklearn.neural_network.MLPClassifier(\n",
    "        hidden_layer_sizes=hidden_layer_sizes,   # layer structure\n",
    "        activation='relu',                       # activation function\n",
    "        solver='adam',                           # optimizer\n",
    "        alpha=0.0005,                            # L2 regularization term\n",
    "        batch_size=128,                          # mini-batch size\n",
    "        learning_rate_init=learning_rate_init,   # initial learning rate\n",
    "        max_iter=100,                            # training iterations\n",
    "        random_state=1,                          # for reproducibility\n",
    "    )\n",
    "\n",
    "    # Fitting the model on training data\n",
    "    model.fit(Xtrain[:10000], ytrain[:10000])\n",
    "\n",
    "    # Evaluating model on validation data\n",
    "    val_accuracy = model.score(Xval, yval)\n",
    "    print(f\"Hidden layer sizes: {hidden_layer_sizes}, Validation Accuracy: {val_accuracy:.4f}\")\n",
    "\n",
    "    # Storing validation accuracy for this configuration\n",
    "    validation_results[hidden_layer_sizes] = val_accuracy\n",
    "\n",
    "print(\"\\nGrid search completed successfully!\")\n",
    "\n",
    "# Find the best performing configuration\n",
    "best_configuration = max(validation_results, key=validation_results.get)\n",
    "best_accuracy = validation_results[best_configuration]\n",
    "\n",
    "print(f\"The best configuration was {best_configuration} \"\n",
    "      f\"with Validation Accuracy = {best_accuracy:.4f}.\")\n"
   ]
  },
  {
   "cell_type": "code",
   "execution_count": 63,
   "metadata": {
    "id": "29OqeZmELELJ"
   },
   "outputs": [
    {
     "name": "stdout",
     "output_type": "stream",
     "text": [
      "Best validation accuracy during grid search: 0.8623, found using layer sizes: (150, 100, 50)\n",
      "Final validation accuracy (ANN): 0.8893\n"
     ]
    }
   ],
   "source": [
    "# ============================================================\n",
    "# Training Final ANN Model Using Best Configuration\n",
    "# ============================================================\n",
    "\n",
    "# Retrieving the best layer configuration from grid search\n",
    "hidden_layer_sizes_best = best_configuration\n",
    "best_val_acc = validation_results[best_configuration]\n",
    "\n",
    "print(f\"Best validation accuracy during grid search: {best_val_acc:.4f}, \"\n",
    "      f\"found using layer sizes: {hidden_layer_sizes_best}\")\n",
    "\n",
    "# Initializing the final ANN model with optimized parameters\n",
    "model_ann = sklearn.neural_network.MLPClassifier(\n",
    "    hidden_layer_sizes=hidden_layer_sizes_best,  # using best architecture\n",
    "    activation='relu',                           # ReLU activation\n",
    "    solver='adam',                               # Adam optimizer\n",
    "    alpha=0.0001,                                # L2 regularization (prevents overfitting)\n",
    "    batch_size=128,                              # mini-batch size\n",
    "    learning_rate_init=0.0005,                   # learning rate from grid search\n",
    "    max_iter=200,                                # higher iteration count for full training\n",
    "    random_state=1,                              # for reproducibility\n",
    ")\n",
    "\n",
    "# Train on the full training dataset\n",
    "model_ann.fit(Xtrain, ytrain)\n",
    "\n",
    "# Evaluate performance on the validation data\n",
    "val_accuracy_final = model_ann.score(Xval, yval)\n",
    "print(f\"Final validation accuracy (ANN): {val_accuracy_final:.4f}\")\n"
   ]
  },
  {
   "cell_type": "markdown",
   "metadata": {
    "id": "_iqH_Kj24hDG"
   },
   "source": [
    "Once we have selected our final model, we can compute the test error on the final models as the last thing we do. Make sure to only do this at the very end, after you have selected the best models you can find."
   ]
  },
  {
   "cell_type": "code",
   "execution_count": null,
   "metadata": {
    "id": "vuQfK309lkf4"
   },
   "outputs": [],
   "source": [
    "# Evaluate the final model on all the data sets, including the test data. We\n",
    "# only evaluate the test data once, and as the last thing we do. If you train\n",
    "# another model after this, based on the performance on the test data, then your\n",
    "# test data is effectively a validation dataset, and you no longer have a test\n",
    "# dataset. (Or, if you keep your test data set, then your results are biased and\n",
    "# by that unreliable.)\n",
    "print(f\"k-NN model training data accuracy  : {model_knn.score(Xtrain, ytrain)}\")\n",
    "print(f\"k-NN model validation data accuracy: {model_knn.score(Xval, yval)}\")\n",
    "if True:  # Change this to True as the very last thing you do!\n",
    "    print(f\"k-NN model test data accuracy      : \"\n",
    "          f\"{model_knn.score(Xtest, ytest)}\")\n",
    "\n",
    "print(f\"ANN model training data accuracy   : {model_ann.score(Xtrain, ytrain)}\")\n",
    "print(f\"ANN model validation data accuracy : {model_ann.score(Xval, yval)}\")\n",
    "if True:  # Change this to True as the very last thing you do!\n",
    "    print(f\"ANN model test data accuracy       : \"\n",
    "          f\"{model_ann.score(Xtest, ytest)}\")"
   ]
  },
  {
   "cell_type": "code",
   "execution_count": null,
   "metadata": {},
   "outputs": [],
   "source": []
  }
 ],
 "metadata": {
  "colab": {
   "collapsed_sections": [],
   "name": "assignment_classification.ipynb",
   "provenance": []
  },
  "kernelspec": {
   "display_name": "Python 3 (ipykernel)",
   "language": "python",
   "name": "python3"
  },
  "language_info": {
   "codemirror_mode": {
    "name": "ipython",
    "version": 3
   },
   "file_extension": ".py",
   "mimetype": "text/x-python",
   "name": "python",
   "nbconvert_exporter": "python",
   "pygments_lexer": "ipython3",
   "version": "3.13.2"
  }
 },
 "nbformat": 4,
 "nbformat_minor": 4
}
