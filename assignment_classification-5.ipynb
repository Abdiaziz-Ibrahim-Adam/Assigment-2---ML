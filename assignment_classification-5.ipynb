{
 "cells": [
  {
   "cell_type": "markdown",
   "metadata": {
    "id": "ePLSo3ldhbMO"
   },
   "source": [
    "# Assignment: Classification of Fashion Items"
   ]
  },
  {
   "cell_type": "markdown",
   "metadata": {},
   "source": [
    "In this assignment, you will classify fashion articles from the [MNIST fashion dataset](https://github.com/zalandoresearch/fashion-mnist) using two different tools: a k-nearest neighbor classifier and a dense neural network (multilayer perceptron). The relevant material for this assignment is covered in lectures 8 and 9. The assignment instructions are provided on Canvas."
   ]
  },
  {
   "cell_type": "markdown",
   "metadata": {
    "id": "DJlFR2GELAxa"
   },
   "source": [
    "## Boilerplate Notebook Code"
   ]
  },
  {
   "cell_type": "markdown",
   "metadata": {},
   "source": [
    "Below, you find the boilerplate code that you have to use for the assignment, including basic instructions.\n",
    "Note that you may need to change the dependency installation procedure.\n",
    "Debug by removing the `%%capture` line.\n",
    "If you use a [virtual environment](https://docs.python.org/3/library/venv.html), make sure you can set the notebook's kernel accordingly (assuming your virtual environment is called `venv`):\n",
    "\n",
    "```\n",
    "pip3 install ipykernel\n",
    "python -m ipykernel install --user --name=venv\n",
    "```\n",
    "\n",
    "Then, also remove the flags `--user -Iv` below."
   ]
  },
  {
   "cell_type": "code",
   "execution_count": 49,
   "metadata": {},
   "outputs": [],
   "source": [
    "%%capture\n",
    "# Install the dependencies (in case you use Google Colab, these should be available by default, though)\n",
    "# In case the installation fails or does not yield the desired results remove the `%%capture` line for debugging.\n",
    "# In case of issues with the import of dependencies, see: https://stackoverflow.com/questions/50914761/jupyter-notebook-cant-find-modules-for-python\n",
    "! pip install --user -Iv numpy matplotlib pandas scikit-learn"
   ]
  },
  {
   "cell_type": "code",
   "execution_count": 50,
   "metadata": {
    "id": "092ZQBfJzALh"
   },
   "outputs": [],
   "source": [
    "import numpy as np\n",
    "np.random.seed(42)  # Set the random seed for reproducible results"
   ]
  },
  {
   "cell_type": "code",
   "execution_count": 51,
   "metadata": {
    "id": "CPqG1Q30qsEB"
   },
   "outputs": [
    {
     "name": "stdout",
     "output_type": "stream",
     "text": [
      "**Author**: Han Xiao, Kashif Rasul, Roland Vollgraf  \n",
      "**Source**: [Zalando Research](https://github.com/zalandoresearch/fashion-mnist)  \n",
      "**Please cite**: Han Xiao and Kashif Rasul and Roland Vollgraf, Fashion-MNIST: a Novel Image Dataset for Benchmarking Machine Learning Algorithms, arXiv, cs.LG/1708.07747  \n",
      "\n",
      "Fashion-MNIST is a dataset of Zalando's article images, consisting of a training set of 60,000 examples and a test set of 10,000 examples. Each example is a 28x28 grayscale image, associated with a label from 10 classes. Fashion-MNIST is intended to serve as a direct drop-in replacement for the original MNIST dataset for benchmarking machine learning algorithms. It shares the same image size and structure of training and testing splits. \n",
      "\n",
      "Raw data available at: https://github.com/zalandoresearch/fashion-mnist\n",
      "\n",
      "### Target classes\n",
      "Each training and test example is assigned to one of the following labels:\n",
      "Label  Description  \n",
      "0  T-shirt/top  \n",
      "1  Trouser  \n",
      "2  Pullover  \n",
      "3  Dress  \n",
      "4  Coat  \n",
      "5  Sandal  \n",
      "6  Shirt  \n",
      "7  Sneaker  \n",
      "8  Bag  \n",
      "9  Ankle boot\n",
      "\n",
      "Downloaded from openml.org.\n"
     ]
    }
   ],
   "source": [
    "# Load the Fashion MNIST dataset (this may take a while)\n",
    "\n",
    "import sklearn.datasets\n",
    "\n",
    "data = sklearn.datasets.fetch_openml(\"Fashion-MNIST\")\n",
    "\n",
    "print(data.DESCR)"
   ]
  },
  {
   "cell_type": "code",
   "execution_count": 52,
   "metadata": {
    "id": "cgS9W1g4ztV9"
   },
   "outputs": [
    {
     "name": "stdout",
     "output_type": "stream",
     "text": [
      "Training set size X   : (52500, 784)\n",
      "Training set size y   : (52500,)\n",
      "Validation set size X : (8750, 784)\n",
      "Validation set size y : (8750,)\n",
      "Test set size X       : (8750, 784)\n",
      "Test set size y       : (8750,)\n",
      "Output classes        : {'1', '6', '9', '3', '0', '8', '2', '4', '5', '7'}\n"
     ]
    }
   ],
   "source": [
    "# Split the data into training, (validation), and test set\n",
    "\n",
    "from sklearn.model_selection import train_test_split\n",
    "\n",
    "Xtrain, Xtest, ytrain, ytest = train_test_split(data.data, data.target, test_size=0.25, random_state=1)\n",
    "\n",
    "# You may alternatively skip this / have a combined Xtrain and Xval here and instead use cross-validation below\n",
    "Xtest, Xval, ytest, yval = train_test_split(Xtest, ytest, test_size=0.5, random_state=1)\n",
    "Xtrain =  np.asarray(Xtrain)\n",
    "Xtest =  np.asarray(Xtest)\n",
    "Xval =  np.asarray(Xval)\n",
    "ytrain =  np.asarray(ytrain)\n",
    "ytest =  np.asarray(ytest)\n",
    "yval =  np.asarray(yval)\n",
    "\n",
    "\n",
    "# Note! Do not touch the test data until the very end!\n",
    "\n",
    "print(f\"Training set size X   : {Xtrain.shape}\")\n",
    "print(f\"Training set size y   : {ytrain.shape}\")\n",
    "print(f\"Validation set size X : {Xval.shape}\")\n",
    "print(f\"Validation set size y : {yval.shape}\")\n",
    "print(f\"Test set size X       : {Xtest.shape}\")\n",
    "print(f\"Test set size y       : {ytest.shape}\")\n",
    "print(f\"Output classes        : {set(ytrain)}\")"
   ]
  },
  {
   "cell_type": "code",
   "execution_count": 53,
   "metadata": {
    "id": "Xd0OxcEW5mq7"
   },
   "outputs": [
    {
     "name": "stdout",
     "output_type": "stream",
     "text": [
      "Before preprocessing, test data       : min = 0.0, max = 255.0, mean = 72.9, std = 89.9\n",
      "Before preprocessing, validation data : min = 0.0, max = 255.0, mean = 73.5, std = 90.3\n",
      "Before preprocessing, test data       : min = 0.0, max = 255.0, mean = 72.9, std = 90.1\n",
      "After preprocessing, test data        : min = -1.0, max = 1.0, mean = -0.4, std = 0.7\n",
      "After preprocessing, validation data  : min = -1.0, max = 1.2, mean = -0.4, std = 0.7\n",
      "After preprocessing, test data        : min = -1.0, max = 1.7, mean = -0.4, std = 0.7\n"
     ]
    }
   ],
   "source": [
    "# Preprocess the data\n",
    "import sklearn.preprocessing\n",
    "\n",
    "print(f\"Before preprocessing, test data       : \"\n",
    "      f\"min = {np.min(Xtrain):.1f}, \"\n",
    "      f\"max = {np.max(Xtrain):.1f}, \"\n",
    "      f\"mean = {np.mean(Xtrain):.1f}, \"\n",
    "      f\"std = {np.std(Xtrain):.1f}\")\n",
    "print(f\"Before preprocessing, validation data : \"\n",
    "      f\"min = {np.min(Xval):.1f}, \"\n",
    "      f\"max = {np.max(Xval):.1f}, \"\n",
    "      f\"mean = {np.mean(Xval):.1f}, \"\n",
    "      f\"std = {np.std(Xval):.1f}\")\n",
    "print(f\"Before preprocessing, test data       : \"\n",
    "      f\"min = {np.min(Xtest):.1f}, \"\n",
    "      f\"max = {np.max(Xtest):.1f}, \"\n",
    "      f\"mean = {np.mean(Xtest):.1f}, \"\n",
    "      f\"std = {np.std(Xtest):.1f}\")\n",
    "\n",
    "scaler = sklearn.preprocessing.MinMaxScaler(feature_range=(-1, 1))\n",
    "scaler.fit(Xtrain)  # Every statistic we compute is found on the training data!\n",
    "\n",
    "Xtrain = scaler.transform(Xtrain)\n",
    "Xval = scaler.transform(Xval)\n",
    "# TODO: If you do cross-validation, you must redo this on the training data in\n",
    "#       each cross-validation loop, and then transform the validation data as\n",
    "#       well!\n",
    "Xtest = scaler.transform(Xtest)\n",
    "\n",
    "print(f\"After preprocessing, test data        : \"\n",
    "      f\"min = {np.min(Xtrain):.1f}, \"\n",
    "      f\"max = {np.max(Xtrain):.1f}, \"\n",
    "      f\"mean = {np.mean(Xtrain):.1f}, \"\n",
    "      f\"std = {np.std(Xtrain):.1f}\")\n",
    "print(f\"After preprocessing, validation data  : \"\n",
    "      f\"min = {np.min(Xval):.1f}, \"\n",
    "      f\"max = {np.max(Xval):.1f}, \"\n",
    "      f\"mean = {np.mean(Xval):.1f}, \"\n",
    "      f\"std = {np.std(Xval):.1f}\")\n",
    "print(f\"After preprocessing, test data        : \"\n",
    "      f\"min = {np.min(Xtest):.1f}, \"\n",
    "      f\"max = {np.max(Xtest):.1f}, \"\n",
    "      f\"mean = {np.mean(Xtest):.1f}, \"\n",
    "      f\"std = {np.std(Xtest):.1f}\")\n",
    "\n",
    "# TODO: Try to apply other preprocessing, e.g. the\n",
    "#       sklearn.preprocessing.StandardScaler(), and see if the results improve."
   ]
  },
  {
   "cell_type": "code",
   "execution_count": 54,
   "metadata": {
    "id": "2st_Xv3w12Tb"
   },
   "outputs": [
    {
     "data": {
      "image/png": "[encoded data removed]",
      "text/plain": [
       "<Figure size 1200x775 with 8 Axes>"
      ]
     },
     "metadata": {},
     "output_type": "display_data"
    }
   ],
   "source": [
    "# Plot a few images\n",
    "\n",
    "import matplotlib.pyplot as plt\n",
    "%matplotlib inline\n",
    "\n",
    "fig = plt.figure(figsize=(12, 7.75))\n",
    "fig.subplots_adjust(top=0.995,\n",
    "                    bottom=0.115,\n",
    "                    left=0.005,\n",
    "                    right=0.995,\n",
    "                    wspace=0.15,\n",
    "                    hspace=0.005)\n",
    "\n",
    "plot_array = (2, 4)\n",
    "ax = [[None] * plot_array[1]] * plot_array[0]\n",
    "it = 0\n",
    "for i in range(plot_array[0]):\n",
    "    for j in range(plot_array[1]):\n",
    "        ax[i][j] = plt.subplot2grid((2, 4), (i, j), rowspan=1, colspan=1)\n",
    "        ax[i][j].imshow(Xtrain[it, :].reshape((28, 28)))\n",
    "        ax[i][j].set_title(f\"Label: {ytrain[it]}\", fontsize=24)\n",
    "        it += 1"
   ]
  },
  {
   "cell_type": "markdown",
   "metadata": {
    "id": "_I-L0BtiwOMO"
   },
   "source": [
    "### The $k$-NN model"
   ]
  },
  {
   "cell_type": "markdown",
   "metadata": {},
   "source": [
    "You have to implement the $k$-NN classifier yourself. The below implementation uses the scikit-learn implementation of the $k$-NN classifier, but you need to do it yourself. Also, perform a hyper-parameter search for the optimal number of neighbors, $k$."
   ]
  },
  {
   "cell_type": "code",
   "execution_count": null,
   "metadata": {
    "id": "MMyn4Pt679bv"
   },
   "outputs": [],
   "source": [
    "# ============================================================\n",
    "# k-Nearest Neighbors (k-NN) Classifier Implementation\n",
    "# ============================================================\n",
    "\n",
    "class knn_Classifier:\n",
    "    \"\"\"\n",
    "    Simple implementation of the k-Nearest Neighbors (k-NN) classifier.\n",
    "\n",
    "    Parameters\n",
    "    ----------\n",
    "    n_neighbors : int, optional (default=5)\n",
    "        Number of nearest neighbors to consider for classification.\n",
    "    \"\"\"\n",
    "\n",
    "    def __init__(self, n_neighbors=5):\n",
    "        \"\"\"Initialize the classifier with the given number of neighbors.\"\"\"\n",
    "        self.n_neighbors = n_neighbors\n",
    "\n",
    "    def fit(self, X, y):\n",
    "        \"\"\"\n",
    "        Store the training data.\n",
    "\n",
    "        Parameters\n",
    "        ----------\n",
    "        X : ndarray of shape (n_samples, n_features)\n",
    "            Training feature data.\n",
    "        y : ndarray of shape (n_samples,)\n",
    "            Training labels.\n",
    "        \"\"\"\n",
    "        self.X_train = X\n",
    "        self.y_train = y\n",
    "\n",
    "    def predict(self, X):\n",
    "        \"\"\"\n",
    "        Predict the class labels for the input samples using k-NN.\n",
    "\n",
    "        Parameters\n",
    "        ----------\n",
    "        X : ndarray of shape (n_samples, n_features)\n",
    "            Input feature data to classify.\n",
    "\n",
    "        Returns\n",
    "        -------\n",
    "        predictions : ndarray of shape (n_samples,)\n",
    "            Predicted class labels for each input sample.\n",
    "        \"\"\"\n",
    "        predictions = []\n",
    "\n",
    "        # Iterate through each sample to predict its label\n",
    "        for x in X:\n",
    "            # Compute Euclidean distance between x and all training samples\n",
    "            distances = np.sqrt(np.sum((self.X_train - x) ** 2, axis=1))\n",
    "\n",
    "            # Get indices of k nearest neighbors\n",
    "            knn_indices = np.argsort(distances)[:self.n_neighbors]\n",
    "\n",
    "            # Get labels of those neighbors\n",
    "            knn_labels = self.y_train[knn_indices]\n",
    "\n",
    "            # Select the most frequent label among neighbors\n",
    "            most_common, counts = np.unique(knn_labels, return_counts=True)\n",
    "            majority_label = most_common[np.argmax(counts)]\n",
    "\n",
    "            predictions.append(majority_label)\n",
    "\n",
    "        return np.array(predictions)\n",
    "\n",
    "    def score(self, X, y):\n",
    "        \"\"\"\n",
    "        Compute the accuracy of the classifier.\n",
    "\n",
    "        Parameters\n",
    "        ----------\n",
    "        X : ndarray\n",
    "            Feature data to evaluate.\n",
    "        y : ndarray\n",
    "            True labels.\n",
    "\n",
    "        Returns\n",
    "        -------\n",
    "        accuracy : float\n",
    "            The proportion of correctly classified samples.\n",
    "        \"\"\"\n",
    "        y_pred = self.predict(X)\n",
    "        return np.mean(y_pred == y)\n"
   ]
  },
  {
   "cell_type": "code",
   "execution_count": null,
   "metadata": {
    "id": "PFTZLR7zu1SI"
   },
   "outputs": [
    {
     "name": "stdout",
     "output_type": "stream",
     "text": [
      "Number of neighbors: k=1, validation accuracy: 0.8459428571428571\n",
      "Number of neighbors: k=2, validation accuracy: 0.8458285714285714\n",
      "Number of neighbors: k=3, validation accuracy: 0.8531428571428571\n",
      "Number of neighbors: k=4, validation accuracy: 0.8581714285714286\n",
      "Number of neighbors: k=5, validation accuracy: 0.8580571428571429\n",
      "Number of neighbors: k=6, validation accuracy: 0.8594285714285714\n"
     ]
    },
    {
     "ename": "KeyboardInterrupt",
     "evalue": "",
     "output_type": "error",
     "traceback": [
      "\u001b[31m---------------------------------------------------------------------------\u001b[39m",
      "\u001b[31mKeyboardInterrupt\u001b[39m                         Traceback (most recent call last)",
      "\u001b[36mCell\u001b[39m\u001b[36m \u001b[39m\u001b[32mIn[56]\u001b[39m\u001b[32m, line 18\u001b[39m\n\u001b[32m     11\u001b[39m \u001b[38;5;66;03m# TODO: The distance computations may take a long time. Play with different\u001b[39;00m\n\u001b[32m     12\u001b[39m \u001b[38;5;66;03m#       amounts of data here to see what is feasible for you. Get it to work\u001b[39;00m\n\u001b[32m     13\u001b[39m \u001b[38;5;66;03m#       on a small amount of data, and then run for a longer time with more\u001b[39;00m\n\u001b[32m     14\u001b[39m \u001b[38;5;66;03m#       data. You may not be able to use all data with the k-NN method,\u001b[39;00m\n\u001b[32m     15\u001b[39m \u001b[38;5;66;03m#       depending on the computer you have for this.\u001b[39;00m\n\u001b[32m     17\u001b[39m model.fit(Xtrain, ytrain)  \n\u001b[32m---> \u001b[39m\u001b[32m18\u001b[39m err = \u001b[43mmodel\u001b[49m\u001b[43m.\u001b[49m\u001b[43mscore\u001b[49m\u001b[43m(\u001b[49m\u001b[43mXval\u001b[49m\u001b[43m,\u001b[49m\u001b[43m \u001b[49m\u001b[43myval\u001b[49m\u001b[43m)\u001b[49m  \u001b[38;5;66;03m# full validation set\u001b[39;00m\n\u001b[32m     19\u001b[39m \u001b[38;5;28mprint\u001b[39m(\u001b[33mf\u001b[39m\u001b[33m\"\u001b[39m\u001b[33mNumber of neighbors: k=\u001b[39m\u001b[38;5;132;01m{\u001b[39;00mk\u001b[38;5;132;01m}\u001b[39;00m\u001b[33m, validation accuracy: \u001b[39m\u001b[38;5;132;01m{\u001b[39;00merr\u001b[38;5;132;01m}\u001b[39;00m\u001b[33m\"\u001b[39m)\n\u001b[32m     20\u001b[39m errs_val.append(err)\n",
      "\u001b[36mCell\u001b[39m\u001b[36m \u001b[39m\u001b[32mIn[55]\u001b[39m\u001b[32m, line 41\u001b[39m, in \u001b[36mknn_Classifier.score\u001b[39m\u001b[34m(self, X, y)\u001b[39m\n\u001b[32m     39\u001b[39m \u001b[38;5;28;01mdef\u001b[39;00m\u001b[38;5;250m \u001b[39m\u001b[34mscore\u001b[39m(\u001b[38;5;28mself\u001b[39m, X, y):\n\u001b[32m     40\u001b[39m \u001b[38;5;250m    \u001b[39m\u001b[33;03m\"\"\"Compute accuracy of the classifier on given data.\"\"\"\u001b[39;00m\n\u001b[32m---> \u001b[39m\u001b[32m41\u001b[39m     y_pred = \u001b[38;5;28;43mself\u001b[39;49m\u001b[43m.\u001b[49m\u001b[43mpredict\u001b[49m\u001b[43m(\u001b[49m\u001b[43mX\u001b[49m\u001b[43m)\u001b[49m\n\u001b[32m     42\u001b[39m     \u001b[38;5;28;01mreturn\u001b[39;00m np.mean(y_pred == y)\n",
      "\u001b[36mCell\u001b[39m\u001b[36m \u001b[39m\u001b[32mIn[55]\u001b[39m\u001b[32m, line 24\u001b[39m, in \u001b[36mknn_Classifier.predict\u001b[39m\u001b[34m(self, X)\u001b[39m\n\u001b[32m     21\u001b[39m predictions = []\n\u001b[32m     22\u001b[39m \u001b[38;5;28;01mfor\u001b[39;00m x \u001b[38;5;129;01min\u001b[39;00m X:\n\u001b[32m     23\u001b[39m     \u001b[38;5;66;03m# Calculating the distance from x to all training points\u001b[39;00m\n\u001b[32m---> \u001b[39m\u001b[32m24\u001b[39m     dist = np.sqrt(\u001b[43mnp\u001b[49m\u001b[43m.\u001b[49m\u001b[43msum\u001b[49m\u001b[43m(\u001b[49m\u001b[43m(\u001b[49m\u001b[38;5;28;43mself\u001b[39;49m\u001b[43m.\u001b[49m\u001b[43mX_train\u001b[49m\u001b[43m \u001b[49m\u001b[43m-\u001b[49m\u001b[43m \u001b[49m\u001b[43mx\u001b[49m\u001b[43m)\u001b[49m\u001b[43m \u001b[49m\u001b[43m*\u001b[49m\u001b[43m*\u001b[49m\u001b[43m \u001b[49m\u001b[32;43m2\u001b[39;49m\u001b[43m,\u001b[49m\u001b[43m \u001b[49m\u001b[43maxis\u001b[49m\u001b[43m=\u001b[49m\u001b[32;43m1\u001b[39;49m\u001b[43m)\u001b[49m)\n\u001b[32m     26\u001b[39m     \u001b[38;5;66;03m# Finding the k nearest neighbors\u001b[39;00m\n\u001b[32m     27\u001b[39m     knn_indices = np.argsort(dist)[:\u001b[38;5;28mself\u001b[39m.n_neighbors]\n",
      "\u001b[36mFile \u001b[39m\u001b[32m~\\AppData\\Roaming\\Python\\Python313\\site-packages\\numpy\\_core\\fromnumeric.py:2338\u001b[39m, in \u001b[36msum\u001b[39m\u001b[34m(a, axis, dtype, out, keepdims, initial, where)\u001b[39m\n\u001b[32m   2333\u001b[39m \u001b[38;5;28;01mdef\u001b[39;00m\u001b[38;5;250m \u001b[39m\u001b[34m_sum_dispatcher\u001b[39m(a, axis=\u001b[38;5;28;01mNone\u001b[39;00m, dtype=\u001b[38;5;28;01mNone\u001b[39;00m, out=\u001b[38;5;28;01mNone\u001b[39;00m, keepdims=\u001b[38;5;28;01mNone\u001b[39;00m,\n\u001b[32m   2334\u001b[39m                     initial=\u001b[38;5;28;01mNone\u001b[39;00m, where=\u001b[38;5;28;01mNone\u001b[39;00m):\n\u001b[32m   2335\u001b[39m     \u001b[38;5;28;01mreturn\u001b[39;00m (a, out)\n\u001b[32m-> \u001b[39m\u001b[32m2338\u001b[39m \u001b[38;5;129m@array_function_dispatch\u001b[39m(_sum_dispatcher)\n\u001b[32m   2339\u001b[39m \u001b[38;5;28;01mdef\u001b[39;00m\u001b[38;5;250m \u001b[39m\u001b[34msum\u001b[39m(a, axis=\u001b[38;5;28;01mNone\u001b[39;00m, dtype=\u001b[38;5;28;01mNone\u001b[39;00m, out=\u001b[38;5;28;01mNone\u001b[39;00m, keepdims=np._NoValue,\n\u001b[32m   2340\u001b[39m         initial=np._NoValue, where=np._NoValue):\n\u001b[32m   2341\u001b[39m \u001b[38;5;250m    \u001b[39m\u001b[33;03m\"\"\"\u001b[39;00m\n\u001b[32m   2342\u001b[39m \u001b[33;03m    Sum of array elements over a given axis.\u001b[39;00m\n\u001b[32m   2343\u001b[39m \n\u001b[32m   (...)\u001b[39m\u001b[32m   2449\u001b[39m \u001b[33;03m    15\u001b[39;00m\n\u001b[32m   2450\u001b[39m \u001b[33;03m    \"\"\"\u001b[39;00m\n\u001b[32m   2451\u001b[39m     \u001b[38;5;28;01mif\u001b[39;00m \u001b[38;5;28misinstance\u001b[39m(a, _gentype):\n\u001b[32m   2452\u001b[39m         \u001b[38;5;66;03m# 2018-02-25, 1.15.0\u001b[39;00m\n",
      "\u001b[31mKeyboardInterrupt\u001b[39m: "
     ]
    }
   ],
   "source": [
    "# ============================================================\n",
    "# Grid Search for Optimal Number of Neighbors (k) in k-NN\n",
    "# ============================================================\n",
    "\n",
    "# Maximum number of neighbors we tested\n",
    "k_max = 6  \n",
    "validation_accuracies = []\n",
    "\n",
    "# Looping through possible k values to find the best one\n",
    "for k in range(1, k_max + 1):\n",
    "    # Initialize model with current k value\n",
    "    model = knn_Classifier(n_neighbors=k)\n",
    "\n",
    "    # Fit the model on the training data\n",
    "    model.fit(Xtrain[:5000], ytrain[:5000])\n",
    "\n",
    "    # Evaluate accuracy on the validation dataset\n",
    "    accuracy = model.score(Xval[:5000], yval[:5000])\n",
    "\n",
    "    # Display and store the result\n",
    "    print(f\"Number of neighbors: k={k}, Validation Accuracy: {accuracy:.4f}\")\n",
    "    validation_accuracies.append(accuracy)\n",
    "\n",
    "print(\"\\nGrid search completed successfully!\")\n",
    "\n",
    "# Identifying the best k (index + 1 because range starts at 1)\n",
    "best_k = np.argmax(validation_accuracies) + 1\n",
    "best_accuracy = validation_accuracies[best_k - 1]\n",
    "\n",
    "print(f\"Best k value: {best_k} with Validation Accuracy = {best_accuracy:.4f}\")\n"
   ]
  },
  {
   "cell_type": "code",
   "execution_count": null,
   "metadata": {
    "id": "RUzpOWkpczOi"
   },
   "outputs": [
    {
     "data": {
      "text/plain": [
       "Text(0, 0.5, 'Validation Accuracy')"
      ]
     },
     "execution_count": 57,
     "metadata": {},
     "output_type": "execute_result"
    },
    {
     "data": {
      "image/png": "[encoded data removed]",
      "text/plain": [
       "<Figure size 800x500 with 1 Axes>"
      ]
     },
     "metadata": {},
     "output_type": "display_data"
    }
   ],
   "source": [
    "# ============================================================\n",
    "# Plot Validation Accuracy as a Function of k (k-NN)\n",
    "# ============================================================\n",
    "\n",
    "# Plot the accuracy curve as a function of k\n",
    "\n",
    "fig = plt.figure(figsize=(8, 5))\n",
    "fig.subplots_adjust(top=0.995,\n",
    "                    bottom=0.115,\n",
    "                    left=0.005,\n",
    "                    right=0.995,\n",
    "                    wspace=0.15,\n",
    "                    hspace=0.005)\n",
    "\n",
    "ax0 = plt.subplot2grid((1, 1), (0, 0), rowspan=1, colspan=1)\n",
    "ax0.plot(range(1, len(validation_accuracies) + 1), validation_accuracies)\n",
    "ax0.set_title(\"Result of $k$-NN Grid-Search\", fontsize=24)\n",
    "ax0.set_xlabel(\"Number of Neighbors, $k$\", fontsize=16)\n",
    "ax0.set_ylabel(\"Validation Accuracy\", fontsize=16)"
   ]
  },
  {
   "cell_type": "code",
   "execution_count": null,
   "metadata": {
    "id": "FO2nAY0WvzJ5"
   },
   "outputs": [
    {
     "name": "stdout",
     "output_type": "stream",
     "text": [
      "The best value was 0.8594285714285714, found using k=6.\n"
     ]
    },
    {
     "ename": "KeyboardInterrupt",
     "evalue": "",
     "output_type": "error",
     "traceback": [
      "\u001b[31m---------------------------------------------------------------------------\u001b[39m",
      "\u001b[31mKeyboardInterrupt\u001b[39m                         Traceback (most recent call last)",
      "\u001b[36mCell\u001b[39m\u001b[36m \u001b[39m\u001b[32mIn[58]\u001b[39m\u001b[32m, line 8\u001b[39m\n\u001b[32m      6\u001b[39m model_knn = knn_Classifier(n_neighbors=k_best)\n\u001b[32m      7\u001b[39m model_knn.fit(Xtrain, ytrain)\n\u001b[32m----> \u001b[39m\u001b[32m8\u001b[39m err = \u001b[43mmodel_knn\u001b[49m\u001b[43m.\u001b[49m\u001b[43mscore\u001b[49m\u001b[43m(\u001b[49m\u001b[43mXval\u001b[49m\u001b[43m,\u001b[49m\u001b[43m \u001b[49m\u001b[43myval\u001b[49m\u001b[43m)\u001b[49m\n\u001b[32m      9\u001b[39m \u001b[38;5;28mprint\u001b[39m(\u001b[33mf\u001b[39m\u001b[33m\"\u001b[39m\u001b[33mFinal validation accuracy: \u001b[39m\u001b[38;5;132;01m{\u001b[39;00merr\u001b[38;5;132;01m}\u001b[39;00m\u001b[33m\"\u001b[39m)\n",
      "\u001b[36mCell\u001b[39m\u001b[36m \u001b[39m\u001b[32mIn[55]\u001b[39m\u001b[32m, line 41\u001b[39m, in \u001b[36mknn_Classifier.score\u001b[39m\u001b[34m(self, X, y)\u001b[39m\n\u001b[32m     39\u001b[39m \u001b[38;5;28;01mdef\u001b[39;00m\u001b[38;5;250m \u001b[39m\u001b[34mscore\u001b[39m(\u001b[38;5;28mself\u001b[39m, X, y):\n\u001b[32m     40\u001b[39m \u001b[38;5;250m    \u001b[39m\u001b[33;03m\"\"\"Compute accuracy of the classifier on given data.\"\"\"\u001b[39;00m\n\u001b[32m---> \u001b[39m\u001b[32m41\u001b[39m     y_pred = \u001b[38;5;28;43mself\u001b[39;49m\u001b[43m.\u001b[49m\u001b[43mpredict\u001b[49m\u001b[43m(\u001b[49m\u001b[43mX\u001b[49m\u001b[43m)\u001b[49m\n\u001b[32m     42\u001b[39m     \u001b[38;5;28;01mreturn\u001b[39;00m np.mean(y_pred == y)\n",
      "\u001b[36mCell\u001b[39m\u001b[36m \u001b[39m\u001b[32mIn[55]\u001b[39m\u001b[32m, line 24\u001b[39m, in \u001b[36mknn_Classifier.predict\u001b[39m\u001b[34m(self, X)\u001b[39m\n\u001b[32m     21\u001b[39m predictions = []\n\u001b[32m     22\u001b[39m \u001b[38;5;28;01mfor\u001b[39;00m x \u001b[38;5;129;01min\u001b[39;00m X:\n\u001b[32m     23\u001b[39m     \u001b[38;5;66;03m# Calculating the distance from x to all training points\u001b[39;00m\n\u001b[32m---> \u001b[39m\u001b[32m24\u001b[39m     dist = np.sqrt(\u001b[43mnp\u001b[49m\u001b[43m.\u001b[49m\u001b[43msum\u001b[49m\u001b[43m(\u001b[49m\u001b[43m(\u001b[49m\u001b[38;5;28;43mself\u001b[39;49m\u001b[43m.\u001b[49m\u001b[43mX_train\u001b[49m\u001b[43m \u001b[49m\u001b[43m-\u001b[49m\u001b[43m \u001b[49m\u001b[43mx\u001b[49m\u001b[43m)\u001b[49m\u001b[43m \u001b[49m\u001b[43m*\u001b[49m\u001b[43m*\u001b[49m\u001b[43m \u001b[49m\u001b[32;43m2\u001b[39;49m\u001b[43m,\u001b[49m\u001b[43m \u001b[49m\u001b[43maxis\u001b[49m\u001b[43m=\u001b[49m\u001b[32;43m1\u001b[39;49m\u001b[43m)\u001b[49m)\n\u001b[32m     26\u001b[39m     \u001b[38;5;66;03m# Finding the k nearest neighbors\u001b[39;00m\n\u001b[32m     27\u001b[39m     knn_indices = np.argsort(dist)[:\u001b[38;5;28mself\u001b[39m.n_neighbors]\n",
      "\u001b[36mFile \u001b[39m\u001b[32m~\\AppData\\Roaming\\Python\\Python313\\site-packages\\numpy\\_core\\fromnumeric.py:2333\u001b[39m, in \u001b[36m_sum_dispatcher\u001b[39m\u001b[34m(a, axis, dtype, out, keepdims, initial, where)\u001b[39m\n\u001b[32m   2327\u001b[39m         \u001b[38;5;28;01mraise\u001b[39;00m \u001b[38;5;167;01mValueError\u001b[39;00m(\u001b[33m\"\u001b[39m\u001b[33mPassing `min` or `max` keyword argument when \u001b[39m\u001b[33m\"\u001b[39m\n\u001b[32m   2328\u001b[39m                          \u001b[33m\"\u001b[39m\u001b[33m`a_min` and `a_max` are provided is forbidden.\u001b[39m\u001b[33m\"\u001b[39m)\n\u001b[32m   2330\u001b[39m     \u001b[38;5;28;01mreturn\u001b[39;00m _wrapfunc(a, \u001b[33m'\u001b[39m\u001b[33mclip\u001b[39m\u001b[33m'\u001b[39m, a_min, a_max, out=out, **kwargs)\n\u001b[32m-> \u001b[39m\u001b[32m2333\u001b[39m \u001b[38;5;28;01mdef\u001b[39;00m\u001b[38;5;250m \u001b[39m\u001b[34m_sum_dispatcher\u001b[39m(a, axis=\u001b[38;5;28;01mNone\u001b[39;00m, dtype=\u001b[38;5;28;01mNone\u001b[39;00m, out=\u001b[38;5;28;01mNone\u001b[39;00m, keepdims=\u001b[38;5;28;01mNone\u001b[39;00m,\n\u001b[32m   2334\u001b[39m                     initial=\u001b[38;5;28;01mNone\u001b[39;00m, where=\u001b[38;5;28;01mNone\u001b[39;00m):\n\u001b[32m   2335\u001b[39m     \u001b[38;5;28;01mreturn\u001b[39;00m (a, out)\n\u001b[32m   2338\u001b[39m \u001b[38;5;129m@array_function_dispatch\u001b[39m(_sum_dispatcher)\n\u001b[32m   2339\u001b[39m \u001b[38;5;28;01mdef\u001b[39;00m\u001b[38;5;250m \u001b[39m\u001b[34msum\u001b[39m(a, axis=\u001b[38;5;28;01mNone\u001b[39;00m, dtype=\u001b[38;5;28;01mNone\u001b[39;00m, out=\u001b[38;5;28;01mNone\u001b[39;00m, keepdims=np._NoValue,\n\u001b[32m   2340\u001b[39m         initial=np._NoValue, where=np._NoValue):\n",
      "\u001b[31mKeyboardInterrupt\u001b[39m: "
     ]
    }
   ],
   "source": [
    "# Train the final k-NN model with the best value for k\n",
    "\n",
    "k_best = np.argmax(validation_accuracies) + 1  # Note that k=1 is at index 0.\n",
    "print(f\"The best value was {validation_accuracies[k_best - 1]}, found using k={k_best}.\")\n",
    "\n",
    "# Initializing and training the final k-NN model using all training data\n",
    "model_knn = knn_Classifier(n_neighbors=k_best)\n",
    "model_knn.fit(Xtrain, ytrain)\n",
    "\n",
    "# Evaluating the model performance on the validation set\n",
    "val_accuracy = model_knn.score(Xval, yval)\n",
    "print(f\"Final validation accuracy of k-NN model: {val_accuracy:.4f}\")"
   ]
  },
  {
   "cell_type": "markdown",
   "metadata": {
    "id": "ESiZjUNjxy7b"
   },
   "source": [
    "### The neural network model"
   ]
  },
  {
   "cell_type": "markdown",
   "metadata": {},
   "source": [
    "We will use the neural networks (multilayer perceptrons) implemented in scikit-learn. You need to find the optimal number of layers, the number of neurons in each of the layers, and any other hyper-parameters that may be relevant. Again, you may first execute the search with a small subset of the data to make sure it works reasonably well."
   ]
  },
  {
   "cell_type": "code",
   "execution_count": null,
   "metadata": {
    "id": "bC0_DAq4kHkc"
   },
   "outputs": [
    {
     "name": "stdout",
     "output_type": "stream",
     "text": [
      "Iteration 1, loss = 0.57466783\n",
      "Iteration 2, loss = 0.39739801\n",
      "Iteration 3, loss = 0.35822605\n",
      "Iteration 4, loss = 0.33012786\n",
      "Iteration 5, loss = 0.31048996\n",
      "Iteration 6, loss = 0.29752404\n",
      "Iteration 7, loss = 0.28232368\n",
      "Iteration 8, loss = 0.27031753\n",
      "Iteration 9, loss = 0.25999264\n",
      "Iteration 10, loss = 0.24932725\n",
      "Iteration 11, loss = 0.24119768\n",
      "Iteration 12, loss = 0.22861280\n",
      "Iteration 13, loss = 0.22142530\n",
      "Iteration 14, loss = 0.21462560\n",
      "Iteration 15, loss = 0.20840542\n",
      "Iteration 16, loss = 0.19541599\n",
      "Iteration 17, loss = 0.19346418\n",
      "Iteration 18, loss = 0.18500800\n",
      "Iteration 19, loss = 0.17811676\n",
      "Iteration 20, loss = 0.17466274\n",
      "Iteration 21, loss = 0.16844241\n",
      "Iteration 22, loss = 0.16047584\n",
      "Iteration 23, loss = 0.15800205\n",
      "Iteration 24, loss = 0.15000958\n",
      "Iteration 25, loss = 0.14326126\n",
      "Iteration 26, loss = 0.13695936\n",
      "Iteration 27, loss = 0.13702518\n",
      "Iteration 28, loss = 0.12817211\n",
      "Iteration 29, loss = 0.12692309\n",
      "Iteration 30, loss = 0.12319488\n",
      "Iteration 31, loss = 0.11584630\n",
      "Iteration 32, loss = 0.11237327\n",
      "Iteration 33, loss = 0.11210818\n",
      "Iteration 34, loss = 0.10887399\n",
      "Iteration 35, loss = 0.10651452\n",
      "Iteration 36, loss = 0.09912194\n",
      "Iteration 37, loss = 0.09556967\n",
      "Iteration 38, loss = 0.08965485\n",
      "Iteration 39, loss = 0.09127506\n",
      "Iteration 40, loss = 0.08465180\n",
      "Iteration 41, loss = 0.08273585\n",
      "Iteration 42, loss = 0.08010051\n",
      "Iteration 43, loss = 0.08135869\n",
      "Iteration 44, loss = 0.07710295\n",
      "Iteration 45, loss = 0.07911680\n",
      "Iteration 46, loss = 0.06933342\n",
      "Iteration 47, loss = 0.07541636\n",
      "Iteration 48, loss = 0.06769207\n",
      "Iteration 49, loss = 0.06664747\n",
      "Iteration 50, loss = 0.06071560\n",
      "Iteration 51, loss = 0.06083930\n",
      "Iteration 52, loss = 0.06291579\n",
      "Iteration 53, loss = 0.05168433\n",
      "Iteration 54, loss = 0.05952724\n",
      "Iteration 55, loss = 0.05587065\n",
      "Iteration 56, loss = 0.05919044\n",
      "Iteration 57, loss = 0.04899058\n",
      "Iteration 58, loss = 0.05343202\n",
      "Iteration 59, loss = 0.05278228\n",
      "Iteration 60, loss = 0.04819788\n",
      "Iteration 61, loss = 0.04449082\n",
      "Iteration 62, loss = 0.05080799\n",
      "Iteration 63, loss = 0.05148244\n",
      "Iteration 64, loss = 0.04761397\n",
      "Iteration 65, loss = 0.04392274\n",
      "Iteration 66, loss = 0.04413597\n",
      "Iteration 67, loss = 0.04608494\n",
      "Iteration 68, loss = 0.03981206\n",
      "Iteration 69, loss = 0.03982101\n",
      "Iteration 70, loss = 0.03995647\n",
      "Iteration 71, loss = 0.04683945\n",
      "Iteration 72, loss = 0.03466625\n",
      "Iteration 73, loss = 0.04776145\n",
      "Iteration 74, loss = 0.04328047\n",
      "Iteration 75, loss = 0.03297195\n",
      "Iteration 76, loss = 0.03528199\n",
      "Iteration 77, loss = 0.04120376\n",
      "Iteration 78, loss = 0.03236549\n",
      "Iteration 79, loss = 0.03262015\n",
      "Iteration 80, loss = 0.04074794\n"
     ]
    },
    {
     "name": "stderr",
     "output_type": "stream",
     "text": [
      "C:\\Users\\abdia\\AppData\\Roaming\\Python\\Python313\\site-packages\\sklearn\\neural_network\\_multilayer_perceptron.py:781: ConvergenceWarning: Stochastic Optimizer: Maximum iterations (80) reached and the optimization hasn't converged yet.\n",
      "  warnings.warn(\n"
     ]
    },
    {
     "name": "stdout",
     "output_type": "stream",
     "text": [
      "Hidden layer sizes: (150, 100, 50), validation accuracy: 0.8780571428571429\n",
      "Grid search done!\n",
      "The best configuration was (150, 100, 50) with accuracy 0.8781.\n"
     ]
    }
   ],
   "source": [
    "# ============================================================================\n",
    "# Neural Network (ANN) Classifier - Grid Search for Hyperparameters\n",
    "# ============================================================================\n",
    "\n",
    "import sklearn.neural_network\n",
    "\n",
    "# Defining a dictionary to store validation accuracies for each configuration\n",
    "validation_results = {}\n",
    "\n",
    "# Defining the layer configurations to test\n",
    "# Each tuple represents the number of neurons in each hidden layer\n",
    "layer_configurations = [\n",
    "    (50,),           # 1 hidden layer, 50 neurons\n",
    "    (100,),          # 1 hidden layer, 100 neurons\n",
    "    (150,),          # 1 hidden layer, 150 neurons\n",
    "    (100, 50),       # 2 hidden layers: 100 and 50 neurons\n",
    "    (150, 100, 50)   # 3 hidden layers: 150, 100, and 50 neurons\n",
    "]\n",
    "\n",
    "# Defining the learning rate to use \n",
    "learning_rate_init = 0.0005\n",
    "\n",
    "# Loop through each network configuration\n",
    "for hidden_layer_sizes in layer_configurations:\n",
    "\n",
    "    # Create an MLP (Multilayer Perceptron) classifier\n",
    "    model = sklearn.neural_network.MLPClassifier(\n",
    "        hidden_layer_sizes=hidden_layer_sizes,   # layer structure\n",
    "        activation='relu',                       # activation function\n",
    "        solver='adam',                           # optimizer\n",
    "        alpha=0.0005,                            # L2 regularization term\n",
    "        batch_size=128,                          # mini-batch size\n",
    "        learning_rate_init=learning_rate_init,   # initial learning rate\n",
    "        max_iter=100,                            # training iterations\n",
    "        random_state=1,                          # for reproducibility\n",
    "    )\n",
    "\n",
    "    # Fitting the model on training data\n",
    "    model.fit(Xtrain, ytrain)\n",
    "\n",
    "    # Evaluating model on validation data\n",
    "    val_accuracy = model.score(Xval, yval)\n",
    "    print(f\"Hidden layer sizes: {hidden_layer_sizes}, Validation Accuracy: {val_accuracy:.4f}\")\n",
    "\n",
    "    # Storing validation accuracy for this configuration\n",
    "    validation_results[hidden_layer_sizes] = val_accuracy\n",
    "\n",
    "print(\"\\nGrid search completed successfully!\")\n",
    "\n",
    "# Find the best performing configuration\n",
    "best_configuration = max(validation_results, key=validation_results.get)\n",
    "best_accuracy = validation_results[best_configuration]\n",
    "\n",
    "print(f\"The best configuration was {best_configuration} \"\n",
    "      f\"with Validation Accuracy = {best_accuracy:.4f}.\")\n"
   ]
  },
  {
   "cell_type": "code",
   "execution_count": null,
   "metadata": {
    "id": "29OqeZmELELJ"
   },
   "outputs": [
    {
     "name": "stdout",
     "output_type": "stream",
     "text": [
      "The best value was 0.8780571428571429, found using layer sizes: (150, 100, 50)\n",
      "Final validation accuracy: 0.8820571428571429\n"
     ]
    }
   ],
   "source": [
    "# ============================================================\n",
    "# Training Final ANN Model Using Best Configuration\n",
    "# ============================================================\n",
    "\n",
    "# Retrieving the best layer configuration from grid search\n",
    "hidden_layer_sizes_best = best_configuration\n",
    "best_val_acc = validation_results[best_configuration]\n",
    "\n",
    "print(f\"Best validation accuracy during grid search: {best_val_acc:.4f}, \"\n",
    "      f\"found using layer sizes: {hidden_layer_sizes_best}\")\n",
    "\n",
    "# Initializing the final ANN model with optimized parameters\n",
    "model_ann = sklearn.neural_network.MLPClassifier(\n",
    "    hidden_layer_sizes=hidden_layer_sizes_best,  # using best architecture\n",
    "    activation='relu',                           # ReLU activation\n",
    "    solver='adam',                               # Adam optimizer\n",
    "    alpha=0.0001,                                # L2 regularization (prevents overfitting)\n",
    "    batch_size=128,                              # mini-batch size\n",
    "    learning_rate_init=0.0005,                   # learning rate from grid search\n",
    "    max_iter=200,                                # higher iteration count for full training\n",
    "    random_state=1,                              # for reproducibility\n",
    ")\n",
    "\n",
    "# Train on the full training dataset\n",
    "model_ann.fit(Xtrain, ytrain)\n",
    "\n",
    "# Evaluate performance on the validation data\n",
    "val_accuracy_final = model_ann.score(Xval, yval)\n",
    "print(f\"Final validation accuracy (ANN): {val_accuracy_final:.4f}\")\n"
   ]
  },
  {
   "cell_type": "markdown",
   "metadata": {
    "id": "_iqH_Kj24hDG"
   },
   "source": [
    "Once we have selected our final model, we can compute the test error on the final models as the last thing we do. Make sure to only do this at the very end, after you have selected the best models you can find."
   ]
  },
  {
   "cell_type": "code",
   "execution_count": 1,
   "metadata": {
    "id": "vuQfK309lkf4"
   },
   "outputs": [
    {
     "ename": "NameError",
     "evalue": "name 'model_knn' is not defined",
     "output_type": "error",
     "traceback": [
      "\u001b[31m---------------------------------------------------------------------------\u001b[39m",
      "\u001b[31mNameError\u001b[39m                                 Traceback (most recent call last)",
      "\u001b[36mCell\u001b[39m\u001b[36m \u001b[39m\u001b[32mIn[1]\u001b[39m\u001b[32m, line 7\u001b[39m\n\u001b[32m      1\u001b[39m \u001b[38;5;66;03m# Evaluate the final model on all the data sets, including the test data. We\u001b[39;00m\n\u001b[32m      2\u001b[39m \u001b[38;5;66;03m# only evaluate the test data once, and as the last thing we do. If you train\u001b[39;00m\n\u001b[32m      3\u001b[39m \u001b[38;5;66;03m# another model after this, based on the performance on the test data, then your\u001b[39;00m\n\u001b[32m      4\u001b[39m \u001b[38;5;66;03m# test data is effectively a validation dataset, and you no longer have a test\u001b[39;00m\n\u001b[32m      5\u001b[39m \u001b[38;5;66;03m# dataset. (Or, if you keep your test data set, then your results are biased and\u001b[39;00m\n\u001b[32m      6\u001b[39m \u001b[38;5;66;03m# by that unreliable.)\u001b[39;00m\n\u001b[32m----> \u001b[39m\u001b[32m7\u001b[39m \u001b[38;5;28mprint\u001b[39m(\u001b[33mf\u001b[39m\u001b[33m\"\u001b[39m\u001b[33mk-NN model training data accuracy  : \u001b[39m\u001b[38;5;132;01m{\u001b[39;00m\u001b[43mmodel_knn\u001b[49m.score(Xtrain,\u001b[38;5;250m \u001b[39mytrain)\u001b[38;5;132;01m}\u001b[39;00m\u001b[33m\"\u001b[39m)\n\u001b[32m      8\u001b[39m \u001b[38;5;28mprint\u001b[39m(\u001b[33mf\u001b[39m\u001b[33m\"\u001b[39m\u001b[33mk-NN model validation data accuracy: \u001b[39m\u001b[38;5;132;01m{\u001b[39;00mmodel_knn.score(Xval,\u001b[38;5;250m \u001b[39myval)\u001b[38;5;132;01m}\u001b[39;00m\u001b[33m\"\u001b[39m)\n\u001b[32m      9\u001b[39m \u001b[38;5;28;01mif\u001b[39;00m \u001b[38;5;28;01mTrue\u001b[39;00m:  \u001b[38;5;66;03m# Change this to True as the very last thing you do!\u001b[39;00m\n",
      "\u001b[31mNameError\u001b[39m: name 'model_knn' is not defined"
     ]
    }
   ],
   "source": [
    "# Evaluate the final model on all the data sets, including the test data. We\n",
    "# only evaluate the test data once, and as the last thing we do. If you train\n",
    "# another model after this, based on the performance on the test data, then your\n",
    "# test data is effectively a validation dataset, and you no longer have a test\n",
    "# dataset. (Or, if you keep your test data set, then your results are biased and\n",
    "# by that unreliable.)\n",
    "print(f\"k-NN model training data accuracy  : {model_knn.score(Xtrain, ytrain)}\")\n",
    "print(f\"k-NN model validation data accuracy: {model_knn.score(Xval, yval)}\")\n",
    "if True:  # Change this to True as the very last thing you do!\n",
    "    print(f\"k-NN model test data accuracy      : \"\n",
    "          f\"{model_knn.score(Xtest, ytest)}\")\n",
    "\n",
    "print(f\"ANN model training data accuracy   : {model_ann.score(Xtrain, ytrain)}\")\n",
    "print(f\"ANN model validation data accuracy : {model_ann.score(Xval, yval)}\")\n",
    "if True:  # Change this to True as the very last thing you do!\n",
    "    print(f\"ANN model test data accuracy       : \"\n",
    "          f\"{model_ann.score(Xtest, ytest)}\")"
   ]
  },
  {
   "cell_type": "code",
   "execution_count": null,
   "metadata": {},
   "outputs": [],
   "source": []
  }
 ],
 "metadata": {
  "colab": {
   "collapsed_sections": [],
   "name": "assignment_classification.ipynb",
   "provenance": []
  },
  "kernelspec": {
   "display_name": "Python 3 (ipykernel)",
   "language": "python",
   "name": "python3"
  },
  "language_info": {
   "codemirror_mode": {
    "name": "ipython",
    "version": 3
   },
   "file_extension": ".py",
   "mimetype": "text/x-python",
   "name": "python",
   "nbconvert_exporter": "python",
   "pygments_lexer": "ipython3",
   "version": "3.13.2"
  }
 },
 "nbformat": 4,
 "nbformat_minor": 4
}
